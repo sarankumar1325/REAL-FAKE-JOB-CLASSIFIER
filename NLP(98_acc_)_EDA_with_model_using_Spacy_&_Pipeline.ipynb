{
  "cells": [
    {
      "source": [
        "# IMPORTANT: RUN THIS CELL IN ORDER TO IMPORT YOUR KAGGLE DATA SOURCES,\n",
        "# THEN FEEL FREE TO DELETE THIS CELL.\n",
        "# NOTE: THIS NOTEBOOK ENVIRONMENT DIFFERS FROM KAGGLE'S PYTHON\n",
        "# ENVIRONMENT SO THERE MAY BE MISSING LIBRARIES USED BY YOUR\n",
        "# NOTEBOOK.\n",
        "import kagglehub\n",
        "shivamb_real_or_fake_fake_jobposting_prediction_path = kagglehub.dataset_download('shivamb/real-or-fake-fake-jobposting-prediction')\n",
        "\n",
        "print('Data source import complete.')\n"
      ],
      "metadata": {
        "id": "890VqLBFlLF6"
      },
      "cell_type": "code",
      "outputs": [],
      "execution_count": null
    },
    {
      "metadata": {
        "_uuid": "8f2839f25d086af736a60e9eeb907d3b93b6e0e5",
        "_cell_guid": "b1076dfc-b9ad-4769-8c92-a6c4dae69d19",
        "trusted": true,
        "id": "VnwEtBLhlLF7"
      },
      "cell_type": "code",
      "source": [
        "# This Python 3 environment comes with many helpful analytics libraries installed\n",
        "# It is defined by the kaggle/python Docker image: https://github.com/kaggle/docker-python\n",
        "# For example, here's several helpful packages to load\n",
        "\n",
        "import numpy as np # linear algebra\n",
        "import pandas as pd # data processing, CSV file I/O (e.g. pd.read_csv)\n",
        "\n",
        "# Input data files are available in the read-only \"../input/\" directory\n",
        "# For example, running this (by clicking run or pressing Shift+Enter) will list all files under the input directory\n",
        "\n",
        "import os\n",
        "for dirname, _, filenames in os.walk('/kaggle/input'):\n",
        "    for filename in filenames:\n",
        "        print(os.path.join(dirname, filename))\n",
        "\n",
        "# You can write up to 5GB to the current directory (/kaggle/working/) that gets preserved as output when you create a version using \"Save & Run All\"\n",
        "# You can also write temporary files to /kaggle/temp/, but they won't be saved outside of the current session"
      ],
      "execution_count": null,
      "outputs": []
    },
    {
      "metadata": {
        "_uuid": "d629ff2d2480ee46fbb7e2d37f6b5fab8052498a",
        "_cell_guid": "79c7e3d0-c299-4dcb-8224-4455121ee9b0",
        "trusted": true,
        "id": "HQU1xemYlLF7"
      },
      "cell_type": "code",
      "source": [
        "import re\n",
        "import string\n",
        "import numpy as np\n",
        "import pandas as pd\n",
        "import random\n",
        "import missingno\n",
        "import plotly.express as px\n",
        "import matplotlib.pyplot as plt\n",
        "import seaborn as sns\n",
        "\n",
        "from sklearn.feature_extraction.text import TfidfVectorizer, CountVectorizer\n",
        "from sklearn.model_selection import train_test_split\n",
        "from sklearn.pipeline import Pipeline\n",
        "from sklearn.base import TransformerMixin\n",
        "from sklearn.metrics import accuracy_score, recall_score, plot_confusion_matrix\n",
        "\n",
        "from wordcloud import WordCloud\n",
        "\n",
        "import spacy\n",
        "from spacy.lang.en.stop_words import STOP_WORDS\n",
        "from spacy.lang.en import English\n",
        "\n",
        "from sklearn.linear_model import LogisticRegression\n",
        "from sklearn.ensemble import RandomForestClassifier\n",
        "from xgboost import XGBClassifier\n",
        "from sklearn.naive_bayes import GaussianNB\n",
        "from sklearn.svm import SVC\n",
        "\n",
        "import warnings\n",
        "warnings.filterwarnings(\"ignore\")"
      ],
      "execution_count": null,
      "outputs": []
    },
    {
      "metadata": {
        "trusted": true,
        "id": "Qw9aUasHlLF7"
      },
      "cell_type": "code",
      "source": [
        "data = pd.read_csv('/kaggle/input/real-or-fake-fake-jobposting-prediction/fake_job_postings.csv')"
      ],
      "execution_count": null,
      "outputs": []
    },
    {
      "metadata": {
        "trusted": true,
        "id": "K-Ka4bJglLF8"
      },
      "cell_type": "code",
      "source": [
        "data.head()"
      ],
      "execution_count": null,
      "outputs": []
    },
    {
      "metadata": {
        "trusted": true,
        "id": "izux6KNmlLF8"
      },
      "cell_type": "code",
      "source": [
        "# checking missing data in our dataframe.\n",
        "missingno.matrix(data)"
      ],
      "execution_count": null,
      "outputs": []
    },
    {
      "metadata": {
        "id": "GB4yGVRalLF8"
      },
      "cell_type": "markdown",
      "source": [
        "* As we can see their are a lot of null values in our dataset, so we need to figure out something later about it."
      ]
    },
    {
      "metadata": {
        "trusted": true,
        "id": "Njfl50_rlLF9"
      },
      "cell_type": "code",
      "source": [
        "print(data.columns)\n",
        "data.describe()"
      ],
      "execution_count": null,
      "outputs": []
    },
    {
      "metadata": {
        "id": "hTVPvqi4lLF9"
      },
      "cell_type": "markdown",
      "source": [
        "* From describing our data we get to know that their are 4 columns named as job_id, telecommuting, has_company_logo and has_questions features which have numerical data. So we can easily remove these columns as they are of no use in text classification problems.\n",
        "* We can also see one numerical feature 'fraudulent' is basically column on which our model will be trained and predicted."
      ]
    },
    {
      "metadata": {
        "trusted": true,
        "id": "Tz2yrnbylLF9"
      },
      "cell_type": "code",
      "source": [
        "# Now lets see how many jobs posted are fraud and real.\n",
        "sns.countplot(data.fraudulent)\n",
        "data.groupby('fraudulent').count()['title'].reset_index().sort_values(by='title',ascending=False)"
      ],
      "execution_count": null,
      "outputs": []
    },
    {
      "metadata": {
        "id": "3NLlKsEMlLF9"
      },
      "cell_type": "markdown",
      "source": [
        "* From the plot we can see their are very few fraud jobs posted.\n",
        "* Our data is very much imbalanced so its a hard work to make a good classifier, we will try best :-)"
      ]
    },
    {
      "metadata": {
        "id": "zXE61z01lLF9"
      },
      "cell_type": "markdown",
      "source": [
        "### **Now let's fill the nan values and get rid of the columns which are of no use to make things simpler.**"
      ]
    },
    {
      "metadata": {
        "trusted": true,
        "id": "hmRoupddlLF-"
      },
      "cell_type": "code",
      "source": [
        "columns=['job_id', 'telecommuting', 'has_company_logo', 'has_questions', 'salary_range', 'employment_type']\n",
        "for col in columns:\n",
        "    del data[col]\n",
        "\n",
        "data.fillna(' ', inplace=True)"
      ],
      "execution_count": null,
      "outputs": []
    },
    {
      "metadata": {
        "trusted": true,
        "id": "LC-5ilk_lLF-"
      },
      "cell_type": "code",
      "source": [
        "data.head()"
      ],
      "execution_count": null,
      "outputs": []
    },
    {
      "metadata": {
        "id": "kKPJa0lAlLF-"
      },
      "cell_type": "markdown",
      "source": [
        "**Let's check which country posts most number of jobs.**"
      ]
    },
    {
      "metadata": {
        "trusted": true,
        "id": "0BThNxFOlLF-"
      },
      "cell_type": "code",
      "source": [
        "def split(location):\n",
        "    l = location.split(',')\n",
        "    return l[0]\n",
        "\n",
        "data['country'] = data.location.apply(split)"
      ],
      "execution_count": null,
      "outputs": []
    },
    {
      "metadata": {
        "trusted": true,
        "id": "Q6AXwHAhlLF_"
      },
      "cell_type": "code",
      "source": [
        "country = dict(data.country.value_counts()[:11])\n",
        "del country[' ']\n",
        "plt.figure(figsize=(8,6))\n",
        "plt.title('No. of job postings country wise', size=20)\n",
        "plt.bar(country.keys(), country.values())\n",
        "plt.ylabel('No. of jobs', size=10)\n",
        "plt.xlabel('Countries', size=10)"
      ],
      "execution_count": null,
      "outputs": []
    },
    {
      "metadata": {
        "id": "-fmP5TbslLF_"
      },
      "cell_type": "markdown",
      "source": [
        "* Most number of jobs are posted by US."
      ]
    },
    {
      "metadata": {
        "id": "prueoAqClLF_"
      },
      "cell_type": "markdown",
      "source": [
        "Let's check about which type of experience is required in most number of jobs."
      ]
    },
    {
      "metadata": {
        "trusted": true,
        "id": "pDbOF3vGlLF_"
      },
      "cell_type": "code",
      "source": [
        "experience = dict(data.required_experience.value_counts())\n",
        "del experience[' ']\n",
        "plt.bar(experience.keys(), experience.values())\n",
        "plt.xlabel('Experience', size=10)\n",
        "plt.ylabel('no. of jobs', size=10)\n",
        "plt.xticks(rotation=35)\n",
        "plt.show()"
      ],
      "execution_count": null,
      "outputs": []
    },
    {
      "metadata": {
        "trusted": true,
        "id": "BX1OTOaQlLGA"
      },
      "cell_type": "code",
      "source": [
        "# title of jobs which are frequent.\n",
        "print(data.title.value_counts()[:10])"
      ],
      "execution_count": null,
      "outputs": []
    },
    {
      "metadata": {
        "id": "4PZbbn_rlLGA"
      },
      "cell_type": "markdown",
      "source": [
        "**Now we should combine our text in a single column to start cleaning our data.**"
      ]
    },
    {
      "metadata": {
        "trusted": true,
        "id": "CRpw1k9olLGA"
      },
      "cell_type": "code",
      "source": [
        "data['text']=data['title']+' '+data['location']+' '+data['company_profile']+' '+data['description']+' '+data['requirements']+' '+data['benefits']\n",
        "del data['title']\n",
        "del data['location']\n",
        "del data['department']\n",
        "del data['company_profile']\n",
        "del data['description']\n",
        "del data['requirements']\n",
        "del data['benefits']\n",
        "del data['required_experience']\n",
        "del data['required_education']\n",
        "del data['industry']\n",
        "del data['function']\n",
        "del data['country']"
      ],
      "execution_count": null,
      "outputs": []
    },
    {
      "metadata": {
        "trusted": true,
        "id": "mo43oz2UlLGA"
      },
      "cell_type": "code",
      "source": [
        "data.head()"
      ],
      "execution_count": null,
      "outputs": []
    },
    {
      "metadata": {
        "id": "ITHWMMyFlLGA"
      },
      "cell_type": "markdown",
      "source": [
        "**Now lets see what type of words are frequent in fraud and actual jobs using wordclouds**"
      ]
    },
    {
      "metadata": {
        "trusted": true,
        "id": "aQpBlH4_lLGB"
      },
      "cell_type": "code",
      "source": [
        "fraudjobs_text = data[data.fraudulent==1].text\n",
        "actualjobs_text = data[data.fraudulent==0].text"
      ],
      "execution_count": null,
      "outputs": []
    },
    {
      "metadata": {
        "trusted": true,
        "id": "8a9BYaQolLGB"
      },
      "cell_type": "code",
      "source": [
        "STOPWORDS = spacy.lang.en.stop_words.STOP_WORDS\n",
        "plt.figure(figsize = (16,14))\n",
        "wc = WordCloud(min_font_size = 3,  max_words = 3000 , width = 1600 , height = 800 , stopwords = STOPWORDS).generate(str(\" \".join(fraudjobs_text)))\n",
        "plt.imshow(wc,interpolation = 'bilinear')"
      ],
      "execution_count": null,
      "outputs": []
    },
    {
      "metadata": {
        "trusted": true,
        "id": "gyY1CcXDlLGB"
      },
      "cell_type": "code",
      "source": [
        "plt.figure(figsize = (16,14))\n",
        "wc = WordCloud(min_font_size = 3,  max_words = 3000 , width = 1600 , height = 800 , stopwords = STOPWORDS).generate(str(\" \".join(actualjobs_text)))\n",
        "plt.imshow(wc,interpolation = 'bilinear')"
      ],
      "execution_count": null,
      "outputs": []
    },
    {
      "metadata": {
        "id": "knGayE96lLGC"
      },
      "cell_type": "markdown",
      "source": [
        "# Cleaning Data"
      ]
    },
    {
      "metadata": {
        "id": "XTIDwT8RlLGC"
      },
      "cell_type": "markdown",
      "source": [
        "* Creating a function that accepts a sentence as input and processes the sentence into tokens, performing lemmatization, lowercasing, and removing stop words.\n",
        "* The function that i have used to do these work is found here https://www.dataquest.io/blog/tutorial-text-classification-in-python-using-spacy/, i know that i cant write so neat so i just taken those functions."
      ]
    },
    {
      "metadata": {
        "trusted": true,
        "id": "gwy3yleplLGC"
      },
      "cell_type": "code",
      "source": [
        "# Create our list of punctuation marks\n",
        "punctuations = string.punctuation\n",
        "\n",
        "# Create our list of stopwords\n",
        "nlp = spacy.load('en')\n",
        "stop_words = spacy.lang.en.stop_words.STOP_WORDS\n",
        "\n",
        "# Load English tokenizer, tagger, parser, NER and word vectors\n",
        "parser = English()\n",
        "\n",
        "# Creating our tokenizer function\n",
        "def spacy_tokenizer(sentence):\n",
        "    # Creating our token object, which is used to create documents with linguistic annotations.\n",
        "    mytokens = parser(sentence)\n",
        "\n",
        "    # Lemmatizing each token and converting each token into lowercase\n",
        "    mytokens = [ word.lemma_.lower().strip() if word.lemma_ != \"-PRON-\" else word.lower_ for word in mytokens ]\n",
        "\n",
        "    # Removing stop words\n",
        "    mytokens = [ word for word in mytokens if word not in stop_words and word not in punctuations ]\n",
        "\n",
        "    # return preprocessed list of tokens\n",
        "    return mytokens"
      ],
      "execution_count": null,
      "outputs": []
    },
    {
      "metadata": {
        "trusted": true,
        "id": "n5aLSdjzlLGC"
      },
      "cell_type": "code",
      "source": [
        "# Custom transformer using spaCy\n",
        "class predictors(TransformerMixin):\n",
        "    def transform(self, X, **transform_params):\n",
        "        # Cleaning Text\n",
        "        return [clean_text(text) for text in X]\n",
        "\n",
        "    def fit(self, X, y=None, **fit_params):\n",
        "        return self\n",
        "\n",
        "    def get_params(self, deep=True):\n",
        "        return {}\n",
        "\n",
        "# Basic function to clean the text\n",
        "def clean_text(text):\n",
        "    # Removing spaces and converting text into lowercase\n",
        "    return text.strip().lower()"
      ],
      "execution_count": null,
      "outputs": []
    },
    {
      "metadata": {
        "trusted": true,
        "id": "51jWatjUlLGD"
      },
      "cell_type": "code",
      "source": [
        "# creating our bag of words\n",
        "bow_vector = CountVectorizer(tokenizer = spacy_tokenizer, ngram_range=(1,3))"
      ],
      "execution_count": null,
      "outputs": []
    },
    {
      "metadata": {
        "id": "SgGtblMhlLGD"
      },
      "cell_type": "markdown",
      "source": [
        "* BoW converts text into the matrix of occurrence of words within a given document. It focuses on whether given words occurred or not in the document, and it generates a matrix that we might see referred to as a BoW matrix or a document term matrix."
      ]
    },
    {
      "metadata": {
        "trusted": true,
        "id": "l_bYhVYQlLGD"
      },
      "cell_type": "code",
      "source": [
        "# splitting our data in train and test\n",
        "X_train, X_test, y_train, y_test = train_test_split(data.text, data.fraudulent, test_size=0.3)"
      ],
      "execution_count": null,
      "outputs": []
    },
    {
      "metadata": {
        "id": "D4HRLqCelLGD"
      },
      "cell_type": "markdown",
      "source": [
        "# Creating Model"
      ]
    },
    {
      "metadata": {
        "id": "aw1enSb0lLGD"
      },
      "cell_type": "markdown",
      "source": [
        "* We are creating a pipeline with three components: a cleaner, a vectorizer, and a classifier. The cleaner uses our predictors class object to clean and preprocess the text. The vectorizer uses countvector objects to create the bag of words matrix for our text. The classifier is an object that performs the logistic regression to classify the sentiments."
      ]
    },
    {
      "metadata": {
        "id": "kMo9CSkVlLGE"
      },
      "cell_type": "markdown",
      "source": [
        "1. Logistic Regression"
      ]
    },
    {
      "metadata": {
        "trusted": true,
        "id": "OSPKuoMvlLGE"
      },
      "cell_type": "code",
      "source": [
        "clf = LogisticRegression()\n",
        "\n",
        "# Create pipeline using Bag of Words\n",
        "pipe = Pipeline([(\"cleaner\", predictors()),\n",
        "                 ('vectorizer', bow_vector),\n",
        "                 ('classifier', clf)])\n",
        "\n",
        "# fitting our model.\n",
        "pipe.fit(X_train,y_train)"
      ],
      "execution_count": null,
      "outputs": []
    },
    {
      "metadata": {
        "trusted": true,
        "id": "zaUN5b-flLGL"
      },
      "cell_type": "code",
      "source": [
        "# Predicting with a test dataset\n",
        "predicted = pipe.predict(X_test)\n",
        "\n",
        "# Model Accuracy\n",
        "print(\"Logistic Regression Accuracy:\", accuracy_score(y_test, predicted))\n",
        "print(\"Logistic Regression Recall:\", recall_score(y_test, predicted))"
      ],
      "execution_count": null,
      "outputs": []
    },
    {
      "metadata": {
        "trusted": true,
        "id": "5G19azEplLGL"
      },
      "cell_type": "code",
      "source": [
        "plot_confusion_matrix(pipe, X_test, y_test, cmap='Blues', values_format=' ')"
      ],
      "execution_count": null,
      "outputs": []
    },
    {
      "metadata": {
        "id": "A4vKEUjKlLGM"
      },
      "cell_type": "markdown",
      "source": [
        "2. Random Forest Classifier"
      ]
    },
    {
      "metadata": {
        "trusted": true,
        "id": "HVCdpcgDlLGM"
      },
      "cell_type": "code",
      "source": [
        "clf = RandomForestClassifier()\n",
        "\n",
        "# Create pipeline using Bag of Words\n",
        "pipe = Pipeline([(\"cleaner\", predictors()),\n",
        "                 ('vectorizer', bow_vector),\n",
        "                 ('classifier', clf)])\n",
        "\n",
        "# fitting our model.\n",
        "pipe.fit(X_train,y_train)"
      ],
      "execution_count": null,
      "outputs": []
    },
    {
      "metadata": {
        "trusted": true,
        "id": "rdmWfxY5lLGM"
      },
      "cell_type": "code",
      "source": [
        "# Predicting with a test dataset\n",
        "predicted = pipe.predict(X_test)\n",
        "\n",
        "# Model Accuracy\n",
        "print(\"Random Forest Accuracy:\", accuracy_score(y_test, predicted))\n",
        "print(\"Random Forest Recall:\", recall_score(y_test, predicted))"
      ],
      "execution_count": null,
      "outputs": []
    },
    {
      "metadata": {
        "trusted": true,
        "id": "lNpXsIGXlLGM"
      },
      "cell_type": "code",
      "source": [
        "plot_confusion_matrix(pipe, X_test, y_test, cmap='Blues', values_format=' ')"
      ],
      "execution_count": null,
      "outputs": []
    },
    {
      "metadata": {
        "id": "yOoKGVidlLGN"
      },
      "cell_type": "markdown",
      "source": [
        "**3. Support Vector Machine Classifier**"
      ]
    },
    {
      "metadata": {
        "trusted": true,
        "id": "zcV24hu1lLGN"
      },
      "cell_type": "code",
      "source": [
        "clf = SVC()\n",
        "\n",
        "# Create pipeline using Bag of Words\n",
        "pipe = Pipeline([(\"cleaner\", predictors()),\n",
        "                 ('vectorizer', bow_vector),\n",
        "                 ('classifier', clf)])\n",
        "\n",
        "# fitting our model.\n",
        "pipe.fit(X_train,y_train)"
      ],
      "execution_count": null,
      "outputs": []
    },
    {
      "metadata": {
        "trusted": true,
        "id": "_ASod3CrlLGN"
      },
      "cell_type": "code",
      "source": [
        "# Predicting with a test dataset\n",
        "predicted = pipe.predict(X_test)\n",
        "\n",
        "# Model Accuracy\n",
        "print(\"SVC Accuracy:\", accuracy_score(y_test, predicted))\n",
        "print(\"SVC Recall:\", recall_score(y_test, predicted))"
      ],
      "execution_count": null,
      "outputs": []
    },
    {
      "metadata": {
        "trusted": true,
        "id": "uNl7U3hElLGN"
      },
      "cell_type": "code",
      "source": [
        "plot_confusion_matrix(pipe, X_test, y_test, cmap='Blues', values_format=' ')"
      ],
      "execution_count": null,
      "outputs": []
    },
    {
      "metadata": {
        "id": "9x9t-BhjlLGO"
      },
      "cell_type": "markdown",
      "source": [
        "4. XGBoost Classifier"
      ]
    },
    {
      "metadata": {
        "trusted": true,
        "id": "lPLLIBXWlLGO"
      },
      "cell_type": "code",
      "source": [
        "clf = XGBClassifier()\n",
        "\n",
        "# Create pipeline using Bag of Words\n",
        "pipe = Pipeline([(\"cleaner\", predictors()),\n",
        "                 ('vectorizer', bow_vector),\n",
        "                 ('classifier', clf)])\n",
        "\n",
        "# fitting our model.\n",
        "pipe.fit(X_train,y_train)"
      ],
      "execution_count": null,
      "outputs": []
    },
    {
      "metadata": {
        "trusted": true,
        "id": "a__-_AJ2lLGO"
      },
      "cell_type": "code",
      "source": [
        "# Predicting with a test dataset\n",
        "predicted = pipe.predict(X_test)\n",
        "\n",
        "# Model Accuracy\n",
        "print(\"XGBoost Accuracy:\", accuracy_score(y_test, predicted))\n",
        "print(\"XGBoost Recall:\", recall_score(y_test, predicted))"
      ],
      "execution_count": null,
      "outputs": []
    },
    {
      "metadata": {
        "trusted": true,
        "id": "lpKdT5LOlLGO"
      },
      "cell_type": "code",
      "source": [
        "plot_confusion_matrix(pipe, X_test, y_test, cmap='Blues', values_format=' ')"
      ],
      "execution_count": null,
      "outputs": []
    },
    {
      "metadata": {
        "id": "UkoZ_hsblLGP"
      },
      "cell_type": "markdown",
      "source": [
        "### * Sorry Guyz for creating Prediction section so long from next time i will do all classifiers in a loop and will try to implement tuning as i am still learning best way :-)\n",
        "### * If you like the notebook please Upvote it.\n",
        "### * Any kind of suggestion are appreciated."
      ]
    },
    {
      "metadata": {
        "trusted": true,
        "id": "DuJk2Hz7lLGP"
      },
      "cell_type": "code",
      "source": [],
      "execution_count": null,
      "outputs": []
    }
  ],
  "metadata": {
    "kernelspec": {
      "language": "python",
      "display_name": "Python 3",
      "name": "python3"
    },
    "language_info": {
      "pygments_lexer": "ipython3",
      "nbconvert_exporter": "python",
      "version": "3.6.4",
      "file_extension": ".py",
      "codemirror_mode": {
        "name": "ipython",
        "version": 3
      },
      "name": "python",
      "mimetype": "text/x-python"
    },
    "colab": {
      "name": "NLP(98%acc.) EDA with model using Spacy & Pipeline",
      "provenance": []
    }
  },
  "nbformat": 4,
  "nbformat_minor": 0
}